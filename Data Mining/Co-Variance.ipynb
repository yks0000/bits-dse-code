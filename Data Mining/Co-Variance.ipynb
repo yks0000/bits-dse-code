{
 "cells": [
  {
   "cell_type": "markdown",
   "metadata": {},
   "source": [
    "**Positive covariance:** If Cov(A,B) > 0, then A and B both tend to be larger than their expected values\n",
    "\n",
    "**Negative covariance:** If Cov(A,B) < 0 then if A is larger than its expected value, B is likely to be smaller than its expected value\n",
    "\n",
    "**Independence:** Cov(A,B)= 0\n"
   ]
  },
  {
   "cell_type": "code",
   "execution_count": 1,
   "metadata": {},
   "outputs": [],
   "source": [
    "import statistics\n",
    "\n",
    "def covariance(list_input):\n",
    "    if not isinstance(list_input, list):\n",
    "        raise ValueError(\"Invalid Format, should be of type: [(2,5),(3,8),(5,10),(4,11),(6,14)]\")\n",
    "    a, b, mul = [], [], []\n",
    "    for _item in list_input:\n",
    "        a.append(_item[0])\n",
    "        b.append(_item[1])\n",
    "        mul.append(_item[0] * _item[1])\n",
    "    cov = statistics.mean(mul) - statistics.mean(a) * statistics.mean(b)\n",
    "    print(cov)  "
   ]
  },
  {
   "cell_type": "code",
   "execution_count": 4,
   "metadata": {},
   "outputs": [
    {
     "name": "stdout",
     "output_type": "stream",
     "text": [
      "4.0\n"
     ]
    }
   ],
   "source": [
    "input_val = [(2,5), (3,8), (5,10), (4,11), (6,14)]\n",
    "covariance(input_val)"
   ]
  },
  {
   "cell_type": "code",
   "execution_count": null,
   "metadata": {},
   "outputs": [],
   "source": []
  }
 ],
 "metadata": {
  "kernelspec": {
   "display_name": "Python 3",
   "language": "python",
   "name": "python3"
  },
  "language_info": {
   "codemirror_mode": {
    "name": "ipython",
    "version": 3
   },
   "file_extension": ".py",
   "mimetype": "text/x-python",
   "name": "python",
   "nbconvert_exporter": "python",
   "pygments_lexer": "ipython3",
   "version": "3.7.6"
  }
 },
 "nbformat": 4,
 "nbformat_minor": 4
}
